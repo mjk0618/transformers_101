{
 "cells": [
  {
   "cell_type": "markdown",
   "metadata": {},
   "source": [
    "## **02** DistillBERT 파인튜닝 및 평가\n",
    "\n",
    "트랜스포머 기반의 사전학습 모델은 토큰과 문장들의 관계를 레이블이 없는 대규모 텍스트를 가지고 지도학습을 이미 완료했습니다. 이에 레이블이 부여된 소규모 데이터를 대상으로 파인튜닝을 하면 이 모델은 높은 정확도의 예측을 할 수 있습니다. 이를 위해 허깅페이스의 `Trainer` 클래스와 통상적인 파이토치 학습 방법을 사용합니다.\n",
    "\n",
    "### **002** 감성분석\n",
    "\n",
    "Distilbert 모델을 사용하여 감성분석(sentiment analysis) 태스크를 수행"
   ]
  },
  {
   "cell_type": "markdown",
   "metadata": {},
   "source": []
  }
 ],
 "metadata": {
  "language_info": {
   "name": "python"
  },
  "orig_nbformat": 4
 },
 "nbformat": 4,
 "nbformat_minor": 2
}
